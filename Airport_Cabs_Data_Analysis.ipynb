{
 "cells": [
  {
   "cell_type": "markdown",
   "id": "3a425d6b",
   "metadata": {},
   "source": [
    "# Airport Cabs Data Analysis"
   ]
  },
  {
   "cell_type": "markdown",
   "id": "4c937715",
   "metadata": {},
   "source": [
    "#  "
   ]
  },
  {
   "cell_type": "markdown",
   "id": "f2aca3e3",
   "metadata": {},
   "source": [
    "### Questions "
   ]
  },
  {
   "cell_type": "markdown",
   "id": "adc326ba",
   "metadata": {},
   "source": [
    "### In This Mini Numpy Project We Will Do Analysis On Airport's Cab Data "
   ]
  },
  {
   "cell_type": "markdown",
   "id": "ef10c9d2",
   "metadata": {},
   "source": [
    "#### Following Are The Questions That We Would Like To Get Answered"
   ]
  },
  {
   "cell_type": "markdown",
   "id": "d56e6865",
   "metadata": {},
   "source": [
    "#### o  Mean Speed Of All Rides"
   ]
  },
  {
   "cell_type": "markdown",
   "id": "7e8d2981",
   "metadata": {},
   "source": [
    "#### o  Number Of Rides Taken In February"
   ]
  },
  {
   "cell_type": "markdown",
   "id": "218b7f22",
   "metadata": {},
   "source": [
    "#### o  Number Of Rides Where Tip > 50$"
   ]
  },
  {
   "cell_type": "markdown",
   "id": "581d5bc3",
   "metadata": {},
   "source": [
    "#### o  Number Of Rides Where Drop Was JFK Airport"
   ]
  },
  {
   "cell_type": "markdown",
   "id": "53820d55",
   "metadata": {},
   "source": [
    "### Lets Start Our Analysis"
   ]
  },
  {
   "cell_type": "markdown",
   "id": "1c5f8a15",
   "metadata": {},
   "source": [
    "#### First We Will The Numpy Library"
   ]
  },
  {
   "cell_type": "code",
   "execution_count": 1,
   "id": "d4886b2a",
   "metadata": {},
   "outputs": [],
   "source": [
    "import numpy as np"
   ]
  },
  {
   "cell_type": "markdown",
   "id": "80091795",
   "metadata": {},
   "source": [
    "#### Now Lets Upload The CSV File To Out Jupyter Notebook"
   ]
  },
  {
   "cell_type": "code",
   "execution_count": 3,
   "id": "c6944361",
   "metadata": {},
   "outputs": [],
   "source": [
    "cab_data = np.genfromtxt('nyc_taxis.csv', delimiter=',', skip_header=True)"
   ]
  },
  {
   "cell_type": "markdown",
   "id": "c761c8d0",
   "metadata": {},
   "source": [
    "#### Lets Use Pandas Just For Showing The Data In A Pandas DataFrame"
   ]
  },
  {
   "cell_type": "code",
   "execution_count": 8,
   "id": "bffa63d1",
   "metadata": {},
   "outputs": [
    {
     "data": {
      "text/html": [
       "<div>\n",
       "<style scoped>\n",
       "    .dataframe tbody tr th:only-of-type {\n",
       "        vertical-align: middle;\n",
       "    }\n",
       "\n",
       "    .dataframe tbody tr th {\n",
       "        vertical-align: top;\n",
       "    }\n",
       "\n",
       "    .dataframe thead th {\n",
       "        text-align: right;\n",
       "    }\n",
       "</style>\n",
       "<table border=\"1\" class=\"dataframe\">\n",
       "  <thead>\n",
       "    <tr style=\"text-align: right;\">\n",
       "      <th></th>\n",
       "      <th>pickup_year</th>\n",
       "      <th>pickup_month</th>\n",
       "      <th>pickup_day</th>\n",
       "      <th>pickup_dayofweek</th>\n",
       "      <th>pickup_time</th>\n",
       "      <th>pickup_location_code</th>\n",
       "      <th>dropoff_location_code</th>\n",
       "      <th>trip_distance</th>\n",
       "      <th>trip_length</th>\n",
       "      <th>fare_amount</th>\n",
       "      <th>fees_amount</th>\n",
       "      <th>tolls_amount</th>\n",
       "      <th>tip_amount</th>\n",
       "      <th>total_amount</th>\n",
       "      <th>payment_type</th>\n",
       "    </tr>\n",
       "  </thead>\n",
       "  <tbody>\n",
       "    <tr>\n",
       "      <th>0</th>\n",
       "      <td>2016</td>\n",
       "      <td>1</td>\n",
       "      <td>1</td>\n",
       "      <td>5</td>\n",
       "      <td>0</td>\n",
       "      <td>2</td>\n",
       "      <td>4</td>\n",
       "      <td>21.00</td>\n",
       "      <td>2037</td>\n",
       "      <td>52.00</td>\n",
       "      <td>0.80</td>\n",
       "      <td>5.54</td>\n",
       "      <td>11.65</td>\n",
       "      <td>69.99</td>\n",
       "      <td>1</td>\n",
       "    </tr>\n",
       "    <tr>\n",
       "      <th>1</th>\n",
       "      <td>2016</td>\n",
       "      <td>1</td>\n",
       "      <td>1</td>\n",
       "      <td>5</td>\n",
       "      <td>0</td>\n",
       "      <td>2</td>\n",
       "      <td>1</td>\n",
       "      <td>16.29</td>\n",
       "      <td>1520</td>\n",
       "      <td>45.00</td>\n",
       "      <td>1.30</td>\n",
       "      <td>0.00</td>\n",
       "      <td>8.00</td>\n",
       "      <td>54.30</td>\n",
       "      <td>1</td>\n",
       "    </tr>\n",
       "    <tr>\n",
       "      <th>2</th>\n",
       "      <td>2016</td>\n",
       "      <td>1</td>\n",
       "      <td>1</td>\n",
       "      <td>5</td>\n",
       "      <td>0</td>\n",
       "      <td>2</td>\n",
       "      <td>6</td>\n",
       "      <td>12.70</td>\n",
       "      <td>1462</td>\n",
       "      <td>36.50</td>\n",
       "      <td>1.30</td>\n",
       "      <td>0.00</td>\n",
       "      <td>0.00</td>\n",
       "      <td>37.80</td>\n",
       "      <td>2</td>\n",
       "    </tr>\n",
       "    <tr>\n",
       "      <th>3</th>\n",
       "      <td>2016</td>\n",
       "      <td>1</td>\n",
       "      <td>1</td>\n",
       "      <td>5</td>\n",
       "      <td>0</td>\n",
       "      <td>2</td>\n",
       "      <td>6</td>\n",
       "      <td>8.70</td>\n",
       "      <td>1210</td>\n",
       "      <td>26.00</td>\n",
       "      <td>1.30</td>\n",
       "      <td>0.00</td>\n",
       "      <td>5.46</td>\n",
       "      <td>32.76</td>\n",
       "      <td>1</td>\n",
       "    </tr>\n",
       "    <tr>\n",
       "      <th>4</th>\n",
       "      <td>2016</td>\n",
       "      <td>1</td>\n",
       "      <td>1</td>\n",
       "      <td>5</td>\n",
       "      <td>0</td>\n",
       "      <td>2</td>\n",
       "      <td>6</td>\n",
       "      <td>5.56</td>\n",
       "      <td>759</td>\n",
       "      <td>17.50</td>\n",
       "      <td>1.30</td>\n",
       "      <td>0.00</td>\n",
       "      <td>0.00</td>\n",
       "      <td>18.80</td>\n",
       "      <td>2</td>\n",
       "    </tr>\n",
       "    <tr>\n",
       "      <th>5</th>\n",
       "      <td>2016</td>\n",
       "      <td>1</td>\n",
       "      <td>1</td>\n",
       "      <td>5</td>\n",
       "      <td>0</td>\n",
       "      <td>4</td>\n",
       "      <td>2</td>\n",
       "      <td>21.45</td>\n",
       "      <td>2004</td>\n",
       "      <td>52.00</td>\n",
       "      <td>0.80</td>\n",
       "      <td>0.00</td>\n",
       "      <td>52.80</td>\n",
       "      <td>105.60</td>\n",
       "      <td>1</td>\n",
       "    </tr>\n",
       "    <tr>\n",
       "      <th>6</th>\n",
       "      <td>2016</td>\n",
       "      <td>1</td>\n",
       "      <td>1</td>\n",
       "      <td>5</td>\n",
       "      <td>0</td>\n",
       "      <td>2</td>\n",
       "      <td>6</td>\n",
       "      <td>8.45</td>\n",
       "      <td>927</td>\n",
       "      <td>24.50</td>\n",
       "      <td>1.30</td>\n",
       "      <td>0.00</td>\n",
       "      <td>6.45</td>\n",
       "      <td>32.25</td>\n",
       "      <td>1</td>\n",
       "    </tr>\n",
       "    <tr>\n",
       "      <th>7</th>\n",
       "      <td>2016</td>\n",
       "      <td>1</td>\n",
       "      <td>1</td>\n",
       "      <td>5</td>\n",
       "      <td>0</td>\n",
       "      <td>2</td>\n",
       "      <td>6</td>\n",
       "      <td>7.30</td>\n",
       "      <td>731</td>\n",
       "      <td>21.50</td>\n",
       "      <td>1.30</td>\n",
       "      <td>0.00</td>\n",
       "      <td>0.00</td>\n",
       "      <td>22.80</td>\n",
       "      <td>2</td>\n",
       "    </tr>\n",
       "    <tr>\n",
       "      <th>8</th>\n",
       "      <td>2016</td>\n",
       "      <td>1</td>\n",
       "      <td>1</td>\n",
       "      <td>5</td>\n",
       "      <td>0</td>\n",
       "      <td>2</td>\n",
       "      <td>5</td>\n",
       "      <td>36.30</td>\n",
       "      <td>2562</td>\n",
       "      <td>109.50</td>\n",
       "      <td>0.80</td>\n",
       "      <td>11.08</td>\n",
       "      <td>10.00</td>\n",
       "      <td>131.38</td>\n",
       "      <td>1</td>\n",
       "    </tr>\n",
       "    <tr>\n",
       "      <th>9</th>\n",
       "      <td>2016</td>\n",
       "      <td>1</td>\n",
       "      <td>1</td>\n",
       "      <td>5</td>\n",
       "      <td>0</td>\n",
       "      <td>6</td>\n",
       "      <td>2</td>\n",
       "      <td>12.46</td>\n",
       "      <td>1351</td>\n",
       "      <td>36.00</td>\n",
       "      <td>1.30</td>\n",
       "      <td>0.00</td>\n",
       "      <td>0.00</td>\n",
       "      <td>37.30</td>\n",
       "      <td>2</td>\n",
       "    </tr>\n",
       "  </tbody>\n",
       "</table>\n",
       "</div>"
      ],
      "text/plain": [
       "  pickup_year pickup_month pickup_day pickup_dayofweek pickup_time  \\\n",
       "0        2016            1          1                5           0   \n",
       "1        2016            1          1                5           0   \n",
       "2        2016            1          1                5           0   \n",
       "3        2016            1          1                5           0   \n",
       "4        2016            1          1                5           0   \n",
       "5        2016            1          1                5           0   \n",
       "6        2016            1          1                5           0   \n",
       "7        2016            1          1                5           0   \n",
       "8        2016            1          1                5           0   \n",
       "9        2016            1          1                5           0   \n",
       "\n",
       "  pickup_location_code dropoff_location_code trip_distance trip_length  \\\n",
       "0                    2                     4         21.00        2037   \n",
       "1                    2                     1         16.29        1520   \n",
       "2                    2                     6         12.70        1462   \n",
       "3                    2                     6          8.70        1210   \n",
       "4                    2                     6          5.56         759   \n",
       "5                    4                     2         21.45        2004   \n",
       "6                    2                     6          8.45         927   \n",
       "7                    2                     6          7.30         731   \n",
       "8                    2                     5         36.30        2562   \n",
       "9                    6                     2         12.46        1351   \n",
       "\n",
       "  fare_amount fees_amount tolls_amount tip_amount total_amount payment_type  \n",
       "0       52.00        0.80         5.54      11.65        69.99            1  \n",
       "1       45.00        1.30         0.00       8.00        54.30            1  \n",
       "2       36.50        1.30         0.00       0.00        37.80            2  \n",
       "3       26.00        1.30         0.00       5.46        32.76            1  \n",
       "4       17.50        1.30         0.00       0.00        18.80            2  \n",
       "5       52.00        0.80         0.00      52.80       105.60            1  \n",
       "6       24.50        1.30         0.00       6.45        32.25            1  \n",
       "7       21.50        1.30         0.00       0.00        22.80            2  \n",
       "8      109.50        0.80        11.08      10.00       131.38            1  \n",
       "9       36.00        1.30         0.00       0.00        37.30            2  "
      ]
     },
     "execution_count": 8,
     "metadata": {},
     "output_type": "execute_result"
    }
   ],
   "source": [
    "import pandas as pd\n",
    "\n",
    "cab_data_pd = pd.read_csv('nyc_taxis.csv', dtype=str)\n",
    "cab_data_pd.head(10)"
   ]
  },
  {
   "cell_type": "markdown",
   "id": "564187a6",
   "metadata": {},
   "source": [
    "#### As We Know To Find The Speed We Can Find It By Dividing The Trip Distance By Trip Length \n",
    "#### There Is A Little Problem As Trip Length Is Not In The Correct Unit Its In Seconds So We Will Convert It In HoursThen Calculate Speed That Should Be In Miles"
   ]
  },
  {
   "cell_type": "code",
   "execution_count": 9,
   "id": "10683238",
   "metadata": {},
   "outputs": [
    {
     "data": {
      "text/plain": [
       "32.24258580925573"
      ]
     },
     "execution_count": 9,
     "metadata": {},
     "output_type": "execute_result"
    }
   ],
   "source": [
    "speed = cab_data[:,7]/(cab_data[:,8]/3600)\n",
    "mean_speed = speed.mean()\n",
    "mean_speed"
   ]
  },
  {
   "cell_type": "markdown",
   "id": "abd61f39",
   "metadata": {},
   "source": [
    "#### So Here Is Our First Answer The Mean Speed Is 32 mph"
   ]
  },
  {
   "cell_type": "markdown",
   "id": "c5d5f6b2",
   "metadata": {},
   "source": [
    "#### Now Lets Try To Answer Our 2nd Question Which Was To Find Number Of Rides Taken In The Month Of February"
   ]
  },
  {
   "cell_type": "markdown",
   "id": "781fa230",
   "metadata": {},
   "source": [
    "#### In Our Dataset Months Are Represented By Numbers So February Is Represented By 2"
   ]
  },
  {
   "cell_type": "markdown",
   "id": "23308e85",
   "metadata": {},
   "source": [
    "#### We Can FInd Our Answer By Using Boolean Algebra"
   ]
  },
  {
   "cell_type": "code",
   "execution_count": 18,
   "id": "91e44a6e",
   "metadata": {},
   "outputs": [
    {
     "data": {
      "text/plain": [
       "array([2., 2., 2., ..., 2., 2., 2.])"
      ]
     },
     "execution_count": 18,
     "metadata": {},
     "output_type": "execute_result"
    }
   ],
   "source": [
    "rides_feb = cab_data[cab_data[:,1] == 2,1]\n",
    "rides_feb"
   ]
  },
  {
   "cell_type": "markdown",
   "id": "65b4956c",
   "metadata": {},
   "source": [
    "#### The rides_feb Variable Gives Us An Ndarray Of All The Rides Taken In The Month OF February "
   ]
  },
  {
   "cell_type": "markdown",
   "id": "3aaa3c59",
   "metadata": {},
   "source": [
    "#### But We Want The Count As Our Answer Not Array, We Can Get That By USing Shape Method"
   ]
  },
  {
   "cell_type": "code",
   "execution_count": 19,
   "id": "d86027e4",
   "metadata": {},
   "outputs": [
    {
     "data": {
      "text/plain": [
       "13333"
      ]
     },
     "execution_count": 19,
     "metadata": {},
     "output_type": "execute_result"
    }
   ],
   "source": [
    "rides_feb.shape[0]"
   ]
  },
  {
   "cell_type": "markdown",
   "id": "8cdeb311",
   "metadata": {},
   "source": [
    "#### Okay So Here Is Our 2nd Answer , The Number Of Rides Taken In The Month Of February Is 13333"
   ]
  },
  {
   "cell_type": "markdown",
   "id": "12f56a9f",
   "metadata": {},
   "source": [
    "#### Now Our Next Question Is To Calculate The Number Of Rides Where The Tip Paid Was Greater Then 50$"
   ]
  },
  {
   "cell_type": "markdown",
   "id": "acf10ee3",
   "metadata": {},
   "source": [
    "#### Here We Will Use Boolean Algebra Again"
   ]
  },
  {
   "cell_type": "code",
   "execution_count": 22,
   "id": "f67160c6",
   "metadata": {},
   "outputs": [
    {
     "data": {
      "text/plain": [
       "16"
      ]
     },
     "execution_count": 22,
     "metadata": {},
     "output_type": "execute_result"
    }
   ],
   "source": [
    "cab_data[cab_data[:,-3]>50].shape[0]"
   ]
  },
  {
   "cell_type": "markdown",
   "id": "6c736035",
   "metadata": {},
   "source": [
    "#### So Here Is Our Answer To The 3rd Question , Total 16 People Have Tipped More Than 50$"
   ]
  },
  {
   "cell_type": "markdown",
   "id": "149a7c85",
   "metadata": {},
   "source": [
    "#### Now Our Last Question Is To Calculate The Number Of Rides Where The Drop Was At JFK Airport"
   ]
  },
  {
   "cell_type": "markdown",
   "id": "72bb7118",
   "metadata": {},
   "source": [
    "#### In Our Dataset We Have Been Given Drop Of Location Code So It Makes All Sense To Use Boolean Algebra Again Here"
   ]
  },
  {
   "cell_type": "code",
   "execution_count": 24,
   "id": "08a1d611",
   "metadata": {},
   "outputs": [
    {
     "data": {
      "text/plain": [
       "11832"
      ]
     },
     "execution_count": 24,
     "metadata": {},
     "output_type": "execute_result"
    }
   ],
   "source": [
    "cab_data[cab_data[:,6] ==2,6].shape[0]"
   ]
  },
  {
   "cell_type": "markdown",
   "id": "9eae6712",
   "metadata": {},
   "source": [
    "#### The Drop Of LOcation Code For JFK Airport Was 2 So Here Is Our Answer To The Last Question That Is The Total Number Of Rides Where Drop Of Location Was At JFK Airport Was 11832"
   ]
  },
  {
   "cell_type": "markdown",
   "id": "6a51db1e",
   "metadata": {},
   "source": [
    "#### So We Have Answered All Our Questions , Feel Free To Ask Your Own Questions And Answer Them Using Your Own Techniques"
   ]
  },
  {
   "cell_type": "markdown",
   "id": "8c5eb3cd",
   "metadata": {},
   "source": [
    "#### You Can Find The Dataset At https://drive.google.com/file/d/1Zu1xLzjcRKgWJ-B2k1j4BdMVFutkiqic/view "
   ]
  },
  {
   "cell_type": "code",
   "execution_count": null,
   "id": "a28fca07",
   "metadata": {},
   "outputs": [],
   "source": []
  }
 ],
 "metadata": {
  "kernelspec": {
   "display_name": "Python 3 (ipykernel)",
   "language": "python",
   "name": "python3"
  },
  "language_info": {
   "codemirror_mode": {
    "name": "ipython",
    "version": 3
   },
   "file_extension": ".py",
   "mimetype": "text/x-python",
   "name": "python",
   "nbconvert_exporter": "python",
   "pygments_lexer": "ipython3",
   "version": "3.9.13"
  }
 },
 "nbformat": 4,
 "nbformat_minor": 5
}
